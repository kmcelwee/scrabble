{
 "cells": [
  {
   "cell_type": "code",
   "execution_count": 40,
   "metadata": {},
   "outputs": [],
   "source": [
    "import pandas as pd\n",
    "import matplotlib.pyplot as plt\n",
    "\n",
    "%matplotlib inline"
   ]
  },
  {
   "cell_type": "code",
   "execution_count": 3,
   "metadata": {},
   "outputs": [],
   "source": [
    "# Load CSVs\n",
    "csv_names = ['lewis', 'fifty', 'random', 'traditional', 'one']\n",
    "dfs = []\n",
    "for name in csv_names:\n",
    "    df_temp = pd.read_csv(f'data/{name}.csv')\n",
    "    df_temp['distribution_type'] = name\n",
    "    dfs.append(df_temp)\n",
    "df = pd.concat(dfs)"
   ]
  },
  {
   "cell_type": "code",
   "execution_count": 4,
   "metadata": {},
   "outputs": [],
   "source": [
    "avg1st_score = df.groupby('distribution_type')['score_1'].mean()\n",
    "avg2nd_score = df.groupby('distribution_type')['score_2'].mean()\n"
   ]
  },
  {
   "cell_type": "markdown",
   "metadata": {},
   "source": [
    "# Score variability for different tile value distributions"
   ]
  },
  {
   "cell_type": "markdown",
   "metadata": {},
   "source": [
    "## What are the scores for each player for each tile value distribution?"
   ]
  },
  {
   "cell_type": "code",
   "execution_count": 59,
   "metadata": {},
   "outputs": [
    {
     "data": {
      "text/plain": [
       "Text(0.5, 0.98, '')"
      ]
     },
     "execution_count": 59,
     "metadata": {},
     "output_type": "execute_result"
    },
    {
     "data": {
      "image/png": "[encoded data removed]",
      "text/plain": [
       "<Figure size 1440x360 with 2 Axes>"
      ]
     },
     "metadata": {
      "needs_background": "light"
     },
     "output_type": "display_data"
    }
   ],
   "source": [
    "fig, axes = plt.subplots(nrows=1, ncols=2, figsize = (20, 5))\n",
    "\n",
    "# Dropping \"fifty\" distribution since it's not illustrative\n",
    "df_no_fifty = df[df['distribution_type'] != 'fifty']\n",
    "\n",
    "ax = df_no_fifty.boxplot('score_1', by='distribution_type', showfliers=False, ax=axes[0])\n",
    "ax.set_ylim(0, 900)\n",
    "fig = ax.get_figure()\n",
    "ax.set_title('Distribution of first player values')\n",
    "ax.set_ylabel('score')\n",
    "\n",
    "ax = df_no_fifty.boxplot('score_2', by='distribution_type', showfliers=False, ax=axes[1])\n",
    "ax.set_ylim(0, 900)\n",
    "fig = ax.get_figure()\n",
    "ax.set_title('Distribution of second player values')\n",
    "ax.set_ylabel('score')\n",
    "\n",
    "fig.suptitle('')"
   ]
  },
  {
   "cell_type": "markdown",
   "metadata": {},
   "source": [
    "## What is the percent difference for each tile value distribution"
   ]
  },
  {
   "cell_type": "code",
   "execution_count": 63,
   "metadata": {},
   "outputs": [
    {
     "data": {
      "text/plain": [
       "Text(0, 0.5, 'percent difference')"
      ]
     },
     "execution_count": 63,
     "metadata": {},
     "output_type": "execute_result"
    },
    {
     "data": {
      "image/png": "[encoded data removed]",
      "text/plain": [
       "<Figure size 432x288 with 1 Axes>"
      ]
     },
     "metadata": {
      "needs_background": "light"
     },
     "output_type": "display_data"
    }
   ],
   "source": [
    "ax = df.boxplot('percent_dif', by='distribution_type', showfliers=False)\n",
    "fig = ax.get_figure()\n",
    "fig.suptitle('')\n",
    "ax.set_title('Percent difference for each tile value distribution')\n",
    "ax.set_ylabel('percent difference')"
   ]
  },
  {
   "cell_type": "markdown",
   "metadata": {},
   "source": [
    "## What percent of the time was the winner the player who went first?"
   ]
  },
  {
   "cell_type": "code",
   "execution_count": 9,
   "metadata": {},
   "outputs": [
    {
     "data": {
      "text/plain": [
       "distribution_type\n",
       "fifty          55.518395\n",
       "lewis          56.212026\n",
       "one            54.456429\n",
       "random         53.826030\n",
       "traditional    56.978992\n",
       "Name: winner, dtype: float64"
      ]
     },
     "execution_count": 9,
     "metadata": {},
     "output_type": "execute_result"
    }
   ],
   "source": [
    "df['winner'] = df['score_1'] > df['score_2']\n",
    "df.groupby('distribution_type')['winner'].apply(lambda series: series.sum() / series.shape[0] * 100)"
   ]
  },
  {
   "cell_type": "markdown",
   "metadata": {},
   "source": [
    "# The Effect of Bingos"
   ]
  },
  {
   "cell_type": "markdown",
   "metadata": {},
   "source": [
    "## What tile value distribution had the highest percentage of equal bingos?"
   ]
  },
  {
   "cell_type": "code",
   "execution_count": 10,
   "metadata": {},
   "outputs": [
    {
     "data": {
      "text/plain": [
       "distribution_type\n",
       "fifty          50.167224\n",
       "lewis          22.952022\n",
       "one            22.097644\n",
       "random         24.133421\n",
       "traditional    23.830391\n",
       "Name: equal_bingos, dtype: float64"
      ]
     },
     "execution_count": 10,
     "metadata": {},
     "output_type": "execute_result"
    }
   ],
   "source": [
    "df['equal_bingos'] = df['bingo_1'] == df['bingo_2']\n",
    "df.groupby('distribution_type')['equal_bingos'].apply(lambda series: series.sum() / series.shape[0] * 100)"
   ]
  },
  {
   "cell_type": "markdown",
   "metadata": {},
   "source": [
    "## For each tile value distribution, what is the average difference in bingo count?"
   ]
  },
  {
   "cell_type": "code",
   "execution_count": 11,
   "metadata": {},
   "outputs": [
    {
     "data": {
      "text/plain": [
       "distribution_type\n",
       "fifty          0.625418\n",
       "lewis          1.325686\n",
       "one            1.428470\n",
       "random         1.266187\n",
       "traditional    1.305323\n",
       "Name: bingo_difference, dtype: float64"
      ]
     },
     "execution_count": 11,
     "metadata": {},
     "output_type": "execute_result"
    }
   ],
   "source": [
    "df['bingo_difference'] = abs(df['bingo_1'] - df['bingo_2'])\n",
    "df.groupby('distribution_type')['bingo_difference'].mean()"
   ]
  },
  {
   "cell_type": "markdown",
   "metadata": {},
   "source": [
    "## What is the percent difference in scores when bingos are unequal v. when they are equal?"
   ]
  },
  {
   "cell_type": "code",
   "execution_count": 48,
   "metadata": {},
   "outputs": [
    {
     "data": {
      "text/plain": [
       "Text(0.5, 0.98, '')"
      ]
     },
     "execution_count": 48,
     "metadata": {},
     "output_type": "execute_result"
    },
    {
     "data": {
      "image/png": "[encoded data removed]",
      "text/plain": [
       "<Figure size 1440x360 with 2 Axes>"
      ]
     },
     "metadata": {
      "needs_background": "light"
     },
     "output_type": "display_data"
    }
   ],
   "source": [
    "df_equal_bingos = df[df['equal_bingos']]\n",
    "df_unequal_bingos = df[~df['equal_bingos']]\n",
    "\n",
    "fig, axes = plt.subplots(nrows=1, ncols=2, figsize = (20, 5))\n",
    "\n",
    "ax = df_unequal_bingos.boxplot('percent_dif', by='distribution_type', showfliers=False, ax=axes[0])\n",
    "ax.set_ylim(0, 100)\n",
    "fig = ax.get_figure()\n",
    "ax.set_title('Percent difference when bingos are uneqal')\n",
    "ax.set_ylabel('percent difference')\n",
    "\n",
    "ax = df_equal_bingos.boxplot('percent_dif', by='distribution_type', showfliers=False, ax=axes[1])\n",
    "ax.set_ylim(0, 100)\n",
    "fig = ax.get_figure()\n",
    "ax.set_title('Percent difference when bingos are equal')\n",
    "ax.set_ylabel('percent difference')\n",
    "\n",
    "fig.suptitle('')"
   ]
  },
  {
   "cell_type": "code",
   "execution_count": null,
   "metadata": {},
   "outputs": [],
   "source": []
  }
 ],
 "metadata": {
  "kernelspec": {
   "display_name": "Python 3",
   "language": "python",
   "name": "python3"
  },
  "language_info": {
   "codemirror_mode": {
    "name": "ipython",
    "version": 3
   },
   "file_extension": ".py",
   "mimetype": "text/x-python",
   "name": "python",
   "nbconvert_exporter": "python",
   "pygments_lexer": "ipython3",
   "version": "3.7.6"
  }
 },
 "nbformat": 4,
 "nbformat_minor": 4
}
